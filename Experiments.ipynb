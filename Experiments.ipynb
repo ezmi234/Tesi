{
 "cells": [
  {
   "cell_type": "code",
   "execution_count": null,
   "outputs": [],
   "source": [
    "import pandas as pd\n",
    "import time\n",
    "import dataset\n",
    "from sklearn import tree\n",
    "from sklearn.model_selection import train_test_split\n",
    "from sklearn.metrics import accuracy_score\n",
    "from matplotlib import pyplot as plt\n",
    "from interpretableai import iai"
   ],
   "metadata": {
    "collapsed": false
   },
   "id": "7c78dc147ea86f4a"
  },
  {
   "cell_type": "code",
   "execution_count": null,
   "outputs": [],
   "source": [
    "# Datasets\n",
    "# datasets = ['balance-scale', 'breast-cancer', 'car-evaluation', 'hayes-roth', 'house-votes-84',\n",
    "#             'soybean-small', 'spect', 'tic-tac-toe', 'monks-1', 'monks-2', 'monks-3']\n",
    "\n",
    "datasets = ['nath-jones', 'balance-scale', 'car-evaluation']"
   ],
   "metadata": {
    "collapsed": false
   },
   "id": "e1f2829d882cc3a"
  },
  {
   "cell_type": "code",
   "execution_count": null,
   "outputs": [],
   "source": [
    "# Train and test variables\n",
    "# depth = [2, 3, 4, 5]\n",
    "depth = [4]\n",
    "train_ratio = 0.5\n",
    "val_ratio = 0.25\n",
    "test_ratio = 0.25\n",
    "seeds = [42]\n",
    "\n",
    "oct_criterion = 'misclassification'\n",
    "plot = False"
   ],
   "metadata": {
    "collapsed": false
   },
   "id": "5cb26ed73aa6a162"
  },
  {
   "cell_type": "code",
   "execution_count": null,
   "outputs": [],
   "source": [],
   "metadata": {
    "collapsed": false
   },
   "id": "f11b820e4a2dbb59"
  },
  {
   "cell_type": "code",
   "execution_count": 49,
   "outputs": [
    {
     "name": "stdout",
     "output_type": "stream",
     "text": [
      "\n",
      "\n",
      "CART depth 4 on nath-jones\n",
      "nath-jones cart-d4 train acc: 1.0 val acc: 0.7272727272727273 test acc: 0.6666666666666666 num nodes: 9\n",
      "\n",
      "\n",
      "OCT depth 4 on nath-jones\n"
     ]
    },
    {
     "name": "stderr",
     "output_type": "stream",
     "text": [
      "/var/folders/dg/_qt4llds0w7_fdfjt318l5gm0000gn/T/ipykernel_12035/3374034645.py:27: FutureWarning: The behavior of DataFrame concatenation with empty or all-NA entries is deprecated. In a future version, this will no longer exclude empty or all-NA columns when determining the result dtypes. To retain the old behavior, exclude the relevant entries before the concat operation.\n",
      "  res_cart = pd.concat([res_cart, pd.DataFrame([row_cart])], ignore_index=True)\n"
     ]
    },
    {
     "name": "stdout",
     "output_type": "stream",
     "text": [
      "nath-jones oct-d4 train acc: 0.9545454545454546 val acc: 0.8333333333333334 test acc: 0.75 num nodes: 3 depth: 1\n",
      "\n",
      "\n",
      "CART depth 4 on balance-scale\n",
      "balance-scale cart-d4 train acc: 0.8301282051282052 val acc: 0.782051282051282 test acc: 0.7452229299363057 num nodes: 31\n",
      "\n",
      "\n",
      "OCT depth 4 on balance-scale\n"
     ]
    },
    {
     "name": "stderr",
     "output_type": "stream",
     "text": [
      "/var/folders/dg/_qt4llds0w7_fdfjt318l5gm0000gn/T/ipykernel_12035/3374034645.py:58: FutureWarning: The behavior of DataFrame concatenation with empty or all-NA entries is deprecated. In a future version, this will no longer exclude empty or all-NA columns when determining the result dtypes. To retain the old behavior, exclude the relevant entries before the concat operation.\n",
      "  res_oct = pd.concat([res_oct, pd.DataFrame([row_oct])], ignore_index=True)\n"
     ]
    },
    {
     "name": "stdout",
     "output_type": "stream",
     "text": [
      "balance-scale oct-d4 train acc: 0.858974358974359 val acc: 0.7948717948717949 test acc: 0.7324840764331211 num nodes: 17 depth: 4\n",
      "\n",
      "\n",
      "CART depth 4 on car-evaluation\n",
      "car-evaluation cart-d4 train acc: 0.8599537037037037 val acc: 0.8819444444444444 test acc: 0.8472222222222222 num nodes: 11\n",
      "\n",
      "\n",
      "OCT depth 4 on car-evaluation\n",
      "car-evaluation oct-d4 train acc: 0.8713789107763615 val acc: 0.8657407407407407 test acc: 0.8406466512702079 num nodes: 11 depth: 4\n"
     ]
    }
   ],
   "source": [
    "res_cart = pd.DataFrame(columns=['instance', 'max-depth', 'seed', 'train_acc', 'val_acc', 'test_acc', 'train_time',\n",
    "                                'num_nodes', 'depth'])\n",
    "\n",
    "res_oct = pd.DataFrame(columns=['instance', 'max-depth', 'seed', 'train_acc', 'val_acc', 'test_acc', 'train_time',\n",
    "                                'num_nodes', 'depth'])\n",
    "for data in datasets:\n",
    "    x, y = dataset.loadData(data)\n",
    "    for d in depth:\n",
    "        for s in seeds:\n",
    "            print('\\n\\nCART depth', d, 'on', data)\n",
    "            x_train, x_test, y_train, y_test = train_test_split(x, y, test_size=1-train_ratio, random_state=s)\n",
    "            x_val, x_test, y_val, y_test = train_test_split(x_test, y_test, \n",
    "                                                                test_size=test_ratio/(test_ratio+val_ratio), random_state=s)\n",
    "            clf = tree.DecisionTreeClassifier(max_depth=d)\n",
    "            \n",
    "            start = time.time()\n",
    "            clf = clf.fit(x_train, y_train)\n",
    "            end = time.time()\n",
    "            train_acc_cart = accuracy_score(y_train, clf.predict(x_train))\n",
    "            val_acc_cart = accuracy_score(y_val, clf.predict(x_val))\n",
    "            test_acc_cart = accuracy_score(y_test, clf.predict(x_test))\n",
    "            n_nodes = clf.tree_.node_count\n",
    "            print(data, 'cart-d{}'.format(d), 'train acc:', train_acc_cart, 'val acc:', val_acc_cart, 'test acc:', test_acc_cart, 'num nodes:', n_nodes)\n",
    "            \n",
    "            row_cart = {'instance': data, 'max-depth': d, 'seed': s, 'train_acc': train_acc_cart, 'val_acc': val_acc_cart,\n",
    "                   'test_acc': test_acc_cart, 'train_time': end-start, 'num_nodes': n_nodes}\n",
    "            res_cart = pd.concat([res_cart, pd.DataFrame([row_cart])], ignore_index=True)\n",
    "\n",
    "            print('\\n\\nOCT depth', d, 'on', data)\n",
    "            \n",
    "            (train_X, train_y), (test_X, test_y) = iai.split_data('classification', x, y,\n",
    "                                                                  train_proportion=train_ratio,\n",
    "                                                                  seed=s)\n",
    "            (val_x, val_y), (test_X, test_y) = iai.split_data('classification', test_X, test_y,\n",
    "                                                              train_proportion=1-test_ratio / (test_ratio + val_ratio),\n",
    "                                                              seed=s)\n",
    "            \n",
    "            grid = iai.GridSearch(\n",
    "                iai.OptimalTreeClassifier(\n",
    "                    criterion=oct_criterion,\n",
    "                    random_seed=1,\n",
    "                ),\n",
    "                max_depth=range(1, d+1),\n",
    "            )\n",
    "            start = time.time()\n",
    "            grid.fit(train_X, train_y)\n",
    "            end = time.time()\n",
    "            best_model = grid.get_learner()\n",
    "            train_acc = best_model.score(train_X, train_y)\n",
    "            val_acc = best_model.score(val_x, val_y)\n",
    "            test_acc = best_model.score(test_X, test_y)\n",
    "            num_nodes = best_model.get_num_nodes()\n",
    "            depth_oct = best_model.get_depth(num_nodes)\n",
    "            print(data, 'oct-d{}'.format(d), 'train acc:', train_acc, 'val acc:', val_acc, 'test acc:', test_acc, 'num nodes:', num_nodes, 'depth:', depth_oct)\n",
    "            \n",
    "            row_oct = {'instance': data, 'max-depth': d, 'seed': s, 'train_acc': train_acc, 'val_acc': val_acc,\n",
    "                   'test_acc': test_acc, 'train_time': end-start, 'num_nodes': num_nodes, 'depth': depth_oct}\n",
    "            res_oct = pd.concat([res_oct, pd.DataFrame([row_oct])], ignore_index=True)\n",
    "            \n",
    "            if plot:\n",
    "                # plot the decision tree\n",
    "                plt.figure(figsize=(10, 8))\n",
    "                tree.plot_tree(clf, fontsize=8)\n",
    "                plt.show()\n",
    "                \n",
    "                plot = grid.get_learner().TreePlot()\n",
    "                plot.show_in_browser()\n",
    "\n",
    "res_cart.to_csv('./res/cart.csv', index=False)\n",
    "res_oct.to_csv('./res/oct.csv', index=False)"
   ],
   "metadata": {
    "collapsed": false,
    "ExecuteTime": {
     "end_time": "2023-11-08T17:56:44.418133Z",
     "start_time": "2023-11-08T17:56:41.414391Z"
    }
   },
   "id": "9fbe8b69086d8ccd"
  },
  {
   "cell_type": "code",
   "execution_count": null,
   "outputs": [],
   "source": [],
   "metadata": {
    "collapsed": false
   },
   "id": "fb3311ffa8407056"
  }
 ],
 "metadata": {
  "kernelspec": {
   "display_name": "Python 3",
   "language": "python",
   "name": "python3"
  },
  "language_info": {
   "codemirror_mode": {
    "name": "ipython",
    "version": 2
   },
   "file_extension": ".py",
   "mimetype": "text/x-python",
   "name": "python",
   "nbconvert_exporter": "python",
   "pygments_lexer": "ipython2",
   "version": "2.7.6"
  }
 },
 "nbformat": 4,
 "nbformat_minor": 5
}
