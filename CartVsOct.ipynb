{
 "cells": [
  {
   "cell_type": "code",
   "execution_count": 1,
   "outputs": [
    {
     "name": "stderr",
     "output_type": "stream",
     "text": [
      "WARNING:root:This copy of Interpretable AI software is for academic purposes only and not for commercial use.\n"
     ]
    }
   ],
   "source": [
    "from services.datastructures import *\n",
    "# from interpretableai import iai\n",
    "import pandas as pd\n",
    "import time\n",
    "import dataset\n",
    "from sklearn.model_selection import train_test_split\n",
    "from sklearn import tree\n",
    "from services import decision_tree\n",
    "from os import path\n",
    "from sklearn.metrics import accuracy_score\n"
   ],
   "metadata": {
    "collapsed": false,
    "ExecuteTime": {
     "end_time": "2023-11-08T20:31:18.211676Z",
     "start_time": "2023-11-08T20:30:50.448690Z"
    }
   },
   "id": "initial_id"
  },
  {
   "cell_type": "code",
   "execution_count": 2,
   "outputs": [],
   "source": [
    "# Datasets\n",
    "datasets = ['nath-jones']"
   ],
   "metadata": {
    "collapsed": false,
    "ExecuteTime": {
     "end_time": "2023-11-08T20:31:21.704806Z",
     "start_time": "2023-11-08T20:31:21.677484Z"
    }
   },
   "id": "7f56489843b70b14"
  },
  {
   "cell_type": "code",
   "execution_count": 3,
   "outputs": [],
   "source": [
    "# Train and test variables\n",
    "max_depth = 4\n",
    "overwrite = False\n",
    "train_ratio = 0.5\n",
    "val_ratio = 0.25\n",
    "test_ratio = 0.25"
   ],
   "metadata": {
    "collapsed": false,
    "ExecuteTime": {
     "end_time": "2023-11-08T20:31:22.600085Z",
     "start_time": "2023-11-08T20:31:22.579272Z"
    }
   },
   "id": "3751e4a943e4b56f"
  },
  {
   "cell_type": "code",
   "execution_count": 4,
   "outputs": [],
   "source": [
    "# Test tree"
   ],
   "metadata": {
    "collapsed": false,
    "ExecuteTime": {
     "end_time": "2023-11-08T20:31:23.449759Z",
     "start_time": "2023-11-08T20:31:23.428383Z"
    }
   },
   "id": "b65c38f05625aa32"
  },
  {
   "cell_type": "code",
   "execution_count": 5,
   "outputs": [
    {
     "name": "stdout",
     "output_type": "stream",
     "text": [
      "Accuracy Test: 0.9090909090909091\n",
      "Accuracy Val: 0.5833333333333334\n",
      "Accuracy Train: 1.0\n"
     ]
    }
   ],
   "source": [
    "for data in datasets:\n",
    "    x, y = dataset.loadData(data)\n",
    "    \n",
    "    x_train, x_test, y_train, y_test = train_test_split(x, y, train_size=train_ratio, random_state=42)\n",
    "    x_test, x_val, y_test, y_val = train_test_split(x_test, y_test, train_size=test_ratio/(test_ratio + val_ratio), random_state=42)\n",
    "    \n",
    "\n",
    "    if (path.isfile('./DecisionTree/' + data + 'Cart' + '.json') and not overwrite):\n",
    "        with open('./DecisionTree/' + data + 'Cart' + '.json', 'r') as file:\n",
    "            cart_json = json.load(file)\n",
    "    else:\n",
    "        cart = decision_tree.train_cart(x_train, y_train)\n",
    "        cart_json = convert_cart_to_json(cart.tree_)\n",
    "        with open('./DecisionTree/' + data + 'Cart' + '.json', 'w') as file:\n",
    "            json.dump(cart_json, file)\n",
    "    \n",
    "    print('Accuracy Test:', decision_tree.test_tree_on_data(cart_json, x_test.to_numpy().tolist(), y_test.to_numpy().tolist()))\n",
    "    print('Accuracy Val:', decision_tree.test_tree_on_data(cart_json, x_val.to_numpy().tolist(), y_val.to_numpy().tolist()))\n",
    "    print('Accuracy Train:', decision_tree.test_tree_on_data(cart_json, x_train.to_numpy().tolist(), y_train.to_numpy().tolist()))\n",
    "\n",
    "\n",
    "    # print(data, 'cart accuracy:', accuracy_score(y_test, cart.predict(x_test)))\n",
    "\n",
    "    # x_train, x_test, y_train, y_test = decision_tree.split_data(x, y, train_ratio,\n",
    "    #                                                             42, 'oct')\n",
    "    # if (path.isfile('./DecisionTree/' + data + 'Oct' + '.pkl') and not overwrite):\n",
    "    #     oct = load_tree('./DecisionTree/' + data + 'Oct' + '.pkl')\n",
    "    #     print(data, 'oct loaded')\n",
    "    # else:\n",
    "    #     oct = decision_tree.train_oct(x_train, y_train, max_depth)\n",
    "    #     save_tree(oct, './DecisionTree/' + data + 'Oct' + '.pkl')\n",
    "    #     print(data, 'oct trained')\n",
    "    # \n",
    "    # print(data, 'oct accuracy:', oct.score(x_test, y_test, criterion='misclassification'))\n",
    "    print()"
   ],
   "metadata": {
    "collapsed": false,
    "ExecuteTime": {
     "end_time": "2023-11-08T20:31:27.800116Z",
     "start_time": "2023-11-08T20:31:27.745548Z"
    }
   },
   "id": "12e0a83aff27848c"
  },
  {
   "cell_type": "code",
   "execution_count": null,
   "outputs": [],
   "source": [],
   "metadata": {
    "collapsed": false
   },
   "id": "d31d64a23bd71b23"
  }
 ],
 "metadata": {
  "kernelspec": {
   "display_name": "Python 3",
   "language": "python",
   "name": "python3"
  },
  "language_info": {
   "codemirror_mode": {
    "name": "ipython",
    "version": 2
   },
   "file_extension": ".py",
   "mimetype": "text/x-python",
   "name": "python",
   "nbconvert_exporter": "python",
   "pygments_lexer": "ipython2",
   "version": "2.7.6"
  }
 },
 "nbformat": 4,
 "nbformat_minor": 5
}
